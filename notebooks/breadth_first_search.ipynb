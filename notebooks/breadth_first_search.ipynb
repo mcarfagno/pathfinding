{
 "cells": [
  {
   "cell_type": "markdown",
   "metadata": {},
   "source": [
    "# LOAD MAP"
   ]
  },
  {
   "cell_type": "code",
   "execution_count": 1,
   "metadata": {},
   "outputs": [
    {
     "data": {
      "image/png": "[encoded data removed]",
      "text/plain": [
       "<Figure size 1080x1080 with 2 Axes>"
      ]
     },
     "metadata": {},
     "output_type": "display_data"
    }
   ],
   "source": [
    "import re\n",
    "import numpy\n",
    "from matplotlib import pyplot as plt\n",
    "plt.style.use('ggplot')\n",
    "\n",
    "def read_pgm(filename, byteorder='>'):\n",
    "    \"\"\"Return image data from a raw PGM file as numpy array.\n",
    "\n",
    "    Format specification: http://netpbm.sourceforge.net/doc/pgm.html\n",
    "\n",
    "    \"\"\"\n",
    "    with open(filename, 'rb') as f:\n",
    "        buffer = f.read()\n",
    "    try:\n",
    "        header, width, height, maxval = re.search(\n",
    "            b\"(^P5\\s(?:\\s*#.*[\\r\\n])*\"\n",
    "            b\"(\\d+)\\s(?:\\s*#.*[\\r\\n])*\"\n",
    "            b\"(\\d+)\\s(?:\\s*#.*[\\r\\n])*\"\n",
    "            b\"(\\d+)\\s(?:\\s*#.*[\\r\\n]\\s)*)\", buffer).groups()\n",
    "    except AttributeError:\n",
    "        raise ValueError(\"Not a raw PGM file: '%s'\" % filename)\n",
    "    return (255-numpy.frombuffer(buffer,\n",
    "                            dtype='u1' if int(maxval) < 256 else byteorder+'u2',\n",
    "                            count=int(width)*int(height),\n",
    "                            offset=len(header)\n",
    "                            ).reshape((int(height), int(width))))/255.0\n",
    "\n",
    "\n",
    "# map_ = read_pgm(\"willow-2010-02-18-0.10.pgm\", byteorder='<')\n",
    "map_ = read_pgm(\"maps/test_map.pgm\", byteorder='<')\n",
    "\n",
    "\n",
    "plt.figure(figsize=(15,15))\n",
    "plt.imshow(map_, plt.cm.binary)\n",
    "plt.colorbar()\n",
    "plt.show()"
   ]
  },
  {
   "cell_type": "code",
   "execution_count": 2,
   "metadata": {},
   "outputs": [
    {
     "name": "stdout",
     "output_type": "stream",
     "text": [
      "CPU times: user 92.4 ms, sys: 9 µs, total: 92.4 ms\n",
      "Wall time: 90.9 ms\n"
     ]
    },
    {
     "data": {
      "text/plain": [
       "19713"
      ]
     },
     "execution_count": 2,
     "metadata": {},
     "output_type": "execute_result"
    }
   ],
   "source": [
    "%%time\n",
    "all_nodes=[]\n",
    "for x in range(map_.shape[0]):\n",
    "    for y in range(map_.shape[1]):\n",
    "        if map_[x,y] < 0.196:\n",
    "            all_nodes.append((x,y))\n",
    "len(all_nodes)"
   ]
  },
  {
   "cell_type": "markdown",
   "metadata": {},
   "source": [
    "## The Graph\n",
    "\n",
    "A graph-based pathfinding algorithm needs to know what the locations are and also which locations are connected to which other ones. A mathematical graph is a set of nodes and edges. The nodes are connected together by the edges. A square **grid** is a special type of graph, where each (free) cell is a node. The edges connecting ajacent cells are going to be the four directions (or eight if diagonal movement is allowed). \n",
    "\n",
    "For any node we need to know the other nodes connected to this one by an edge. We call these **neighbors** of a node:"
   ]
  },
  {
   "cell_type": "code",
   "execution_count": 3,
   "metadata": {},
   "outputs": [],
   "source": [
    "class Graph:\n",
    "    \n",
    "    #Nodes\n",
    "    def __init__(self):\n",
    "        self.all_nodes=[]\n",
    "    \n",
    "    #Edges\n",
    "    def neighbors(self,node):\n",
    "        dirs = [[1, 0],\n",
    "                [0, 1],\n",
    "                [-1, 0],\n",
    "                [0, -1],\n",
    "                [-1, -1],\n",
    "                [-1, 1],\n",
    "                [1, -1],\n",
    "                [1, 1]]\n",
    "        \n",
    "#         dirs = [[1, 0], [0, 1], [-1, 0], [0, -1]]\n",
    "        result = []\n",
    "        for dir in dirs:\n",
    "            neighbor = (node[0] + dir[0], node[1] + dir[1])\n",
    "            if neighbor in self.all_nodes:\n",
    "                result.append(neighbor)\n",
    "\n",
    "        return result\n",
    "\n",
    "graph = Graph()\n",
    "graph.all_nodes=all_nodes"
   ]
  },
  {
   "cell_type": "markdown",
   "metadata": {},
   "source": [
    "## Breadth First Search Algorithm"
   ]
  },
  {
   "cell_type": "code",
   "execution_count": 4,
   "metadata": {},
   "outputs": [],
   "source": [
    "import collections\n",
    "\n",
    "class Queue:\n",
    "    def __init__(self):\n",
    "        self.elements = collections.deque()\n",
    "    \n",
    "    def empty(self):\n",
    "        return len(self.elements) == 0\n",
    "    \n",
    "    def put(self, x):\n",
    "        self.elements.append(x)\n",
    "    \n",
    "    def get(self):\n",
    "        return self.elements.popleft()"
   ]
  },
  {
   "cell_type": "code",
   "execution_count": 5,
   "metadata": {},
   "outputs": [
    {
     "name": "stdout",
     "output_type": "stream",
     "text": [
      "19492\n",
      "CPU times: user 24.6 s, sys: 0 ns, total: 24.6 s\n",
      "Wall time: 24.6 s\n"
     ]
    }
   ],
   "source": [
    "%%time\n",
    "def breadth_first_search(start,graph):\n",
    "\n",
    "    frontier = Queue()\n",
    "    frontier.put(start)\n",
    "    \n",
    "    visited = {}\n",
    "    visited[start] = True\n",
    "    \n",
    "    while not frontier.empty():\n",
    "        current = frontier.get()\n",
    "        #print(\"Visiting {}\".format(current))\n",
    "        for next in graph.neighbors(current):\n",
    "            if next not in visited:\n",
    "                frontier.put(next)\n",
    "                visited[next] = True\n",
    "    \n",
    "    print(len(visited))\n",
    "\n",
    "breadth_first_search((300,300),graph)"
   ]
  },
  {
   "cell_type": "code",
   "execution_count": 6,
   "metadata": {},
   "outputs": [
    {
     "name": "stdout",
     "output_type": "stream",
     "text": [
      "14386\n",
      "CPU times: user 20.9 s, sys: 16.8 ms, total: 20.9 s\n",
      "Wall time: 21 s\n"
     ]
    }
   ],
   "source": [
    "%%time\n",
    "def breadth_first_search(start,goal,graph):\n",
    "\n",
    "    frontier = Queue()\n",
    "    frontier.put(start)\n",
    "    came_from = {}\n",
    "    came_from[start] = None\n",
    "    \n",
    "    while not frontier.empty():\n",
    "        current = frontier.get()\n",
    "        \n",
    "        if current == goal:\n",
    "            break\n",
    "        \n",
    "        for node in graph.neighbors(current):\n",
    "            if node not in came_from:\n",
    "                frontier.put(node)\n",
    "                came_from[node] = current\n",
    "    \n",
    "    return came_from\n",
    "\n",
    "res=breadth_first_search((300,300), (200, 200),graph)\n",
    "print(len(res))"
   ]
  },
  {
   "cell_type": "code",
   "execution_count": 7,
   "metadata": {},
   "outputs": [],
   "source": [
    "def reconstruct_path(start,goal,came_from):\n",
    "    \"\"\"\n",
    "    \"\"\"\n",
    "    current = goal \n",
    "    path = []\n",
    "    while current != start: \n",
    "        path.append(current)\n",
    "        current = came_from[current]\n",
    "    path.append(start) # optional\n",
    "    path.reverse() # optional\n",
    "    return path"
   ]
  },
  {
   "cell_type": "code",
   "execution_count": 33,
   "metadata": {},
   "outputs": [
    {
     "data": {
      "image/png": "[encoded data removed]",
      "text/plain": [
       "<Figure size 1080x1080 with 1 Axes>"
      ]
     },
     "metadata": {},
     "output_type": "display_data"
    }
   ],
   "source": [
    "path_overlay=numpy.zeros_like(map_)\n",
    "for step in reconstruct_path((300,300), (200, 200),res):\n",
    "    path_overlay[step[0],step[1]]=1\n",
    "    \n",
    "path_overlay_mask = numpy.ma.masked_where(path_overlay == 0, path_overlay) \n",
    "    \n",
    "plt.figure(figsize=(15,15))\n",
    "plt.imshow(map_[100:401,100:401], plt.cm.binary)\n",
    "plt.imshow(path_overlay_mask[100:401,100:401],interpolation=\"none\")\n",
    "#plt.colorbar()\n",
    "plt.show()"
   ]
  }
 ],
 "metadata": {
  "kernelspec": {
   "display_name": "Python 3",
   "language": "python",
   "name": "python3"
  },
  "language_info": {
   "codemirror_mode": {
    "name": "ipython",
    "version": 3
   },
   "file_extension": ".py",
   "mimetype": "text/x-python",
   "name": "python",
   "nbconvert_exporter": "python",
   "pygments_lexer": "ipython3",
   "version": "3.6.9"
  }
 },
 "nbformat": 4,
 "nbformat_minor": 4
}
